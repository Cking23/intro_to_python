{
 "cells": [
  {
   "cell_type": "markdown",
   "metadata": {},
   "source": [
    "<pre>\n",
    "# f1: (10 pts) sum the numbers in the list, skipping strings if any.\n",
    "# Hint: Use try/except to skip strings\n",
    "def sum_numbers(list):\n",
    "# your code goes here\n",
    "\n",
    "# test\n",
    "print(sum_numbers([4,1.7,'a','hello',2.3]))\n",
    "# Output:\n",
    "# 8.0\n",
    "</pre>"
   ]
  },
  {
   "cell_type": "code",
   "execution_count": 1,
   "metadata": {},
   "outputs": [],
   "source": [
    "def sum_numbers(list):\n",
    "    return 0"
   ]
  },
  {
   "cell_type": "code",
   "execution_count": 2,
   "metadata": {},
   "outputs": [
    {
     "name": "stdout",
     "output_type": "stream",
     "text": [
      "0\n"
     ]
    }
   ],
   "source": [
    "print(sum_numbers([4,1.7,'a','hello',2.3]))"
   ]
  },
  {
   "cell_type": "markdown",
   "metadata": {},
   "source": [
    "<pre>\n",
    "# f2: (10 pts) double the elements of a number list\n",
    "def double(list):\n",
    "# your code goes here\n",
    "\n",
    "# test\n",
    "# l = [1,5,7,9]\n",
    "# double(l)\n",
    "# print(l)\n",
    "# Output:\n",
    "# [2, 10, 14, 18]\n",
    "</pre>"
   ]
  },
  {
   "cell_type": "code",
   "execution_count": 5,
   "metadata": {},
   "outputs": [],
   "source": [
    "def double(list):\n",
    "    return"
   ]
  },
  {
   "cell_type": "code",
   "execution_count": 6,
   "metadata": {},
   "outputs": [
    {
     "name": "stdout",
     "output_type": "stream",
     "text": [
      "[1, 5, 7, 9]\n"
     ]
    }
   ],
   "source": [
    "l = [1,5,7,9]\n",
    "double(l)\n",
    "print(l)"
   ]
  },
  {
   "cell_type": "markdown",
   "metadata": {},
   "source": [
    "<pre>\n",
    "# f3: (10 pts) add list1 elements to list2's end if they are 'not in' in list2\n",
    "def add(list1, list2):\n",
    "# your code goes here\n",
    "\n",
    "# test\n",
    "# l1 = ['a','b','c']\n",
    "# l2 = ['a','c','d','e']\n",
    "# add(l1, l2)\n",
    "# print(l2)\n",
    "# Output:\n",
    "# ['a', 'c', 'd', 'e', 'b']\n",
    "</pre>"
   ]
  },
  {
   "cell_type": "code",
   "execution_count": 7,
   "metadata": {},
   "outputs": [],
   "source": [
    "def add(list1, list2):\n",
    "    return []"
   ]
  },
  {
   "cell_type": "code",
   "execution_count": 8,
   "metadata": {},
   "outputs": [
    {
     "name": "stdout",
     "output_type": "stream",
     "text": [
      "['a', 'c', 'd', 'e']\n"
     ]
    }
   ],
   "source": [
    "l1 = ['a','b','c']\n",
    "l2 = ['a','c','d','e']\n",
    "add(l1, l2)\n",
    "print(l2)"
   ]
  },
  {
   "cell_type": "markdown",
   "metadata": {},
   "source": [
    "<h2>Files</h2>\n",
    "\n",
    "Download data file: https://web.stanford.edu/class/archive/cs/cs109/cs109.1166/stuff/titanic.csv\n",
    "\n",
    "Read the file and find the following:\n",
    "\n",
    "+ What percentage of female passengers have survived? (find the number of female passengers and the number of female passengers who survived, then find the percentage).\n",
    "\n",
    "+ What was the average fair paid by female passengers?\n",
    "\n"
   ]
  },
  {
   "cell_type": "code",
   "execution_count": 18,
   "metadata": {},
   "outputs": [
    {
     "name": "stdout",
     "output_type": "stream",
     "text": [
      "Number of female passengers: 314\n"
     ]
    }
   ],
   "source": [
    "# sample code to find the number of female passengers\n",
    "\n",
    "fhand = open('titanic.csv')\n",
    "cnt = 0\n",
    "for line in fhand:\n",
    "    data = line.split(',')\n",
    "    if data[3] == 'female':\n",
    "        cnt += 1\n",
    "print('Number of female passengers:',cnt)"
   ]
  }
 ],
 "metadata": {
  "kernelspec": {
   "display_name": "Python 3",
   "language": "python",
   "name": "python3"
  },
  "language_info": {
   "codemirror_mode": {
    "name": "ipython",
    "version": 3
   },
   "file_extension": ".py",
   "mimetype": "text/x-python",
   "name": "python",
   "nbconvert_exporter": "python",
   "pygments_lexer": "ipython3",
   "version": "3.7.4"
  }
 },
 "nbformat": 4,
 "nbformat_minor": 2
}
