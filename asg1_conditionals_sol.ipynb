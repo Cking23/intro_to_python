{
 "cells": [
  {
   "cell_type": "markdown",
   "metadata": {},
   "source": [
    "<h1>Assignment 1</h1>\n",
    "\n",
    "Exercise 1: Rewrite your pay computation to give the employee 1.5 times the hourly rate for hours worked above 40 hours.\n",
    "\n",
    "Enter Hours: 45<br>\n",
    "Enter Rate: 10<br>\n",
    "Pay: 475.0<br>\n",
    "\n",
    "Exercise 2: Rewrite your pay program using try and except so that your program handles non-numeric input gracefully by printing a message and exiting the program. The following shows two executions of the program:\n",
    "\n",
    "Enter Hours: 20<br>\n",
    "Enter Rate: nine<br>\n",
    "Error, please enter numeric input<br>\n",
    "Enter Hours: forty<br>\n",
    "Error, please enter numeric input<br>\n",
    "\n",
    "Exercise 3: Write a program to prompt for a score between 0.0 and 1.0. If the score is out of range, print an error message. If the score is between 0.0 and 1.0, print a grade using the following table:\n",
    "\n",
    "Score   Grade<br>\n",
    "\\>= 0.9     A<br>\n",
    "\\>= 0.8     B<br>\n",
    "\\>= 0.7     C<br>\n",
    "\\>= 0.6     D<br>\n",
    "\\< 0.6    F<br>\n",
    "\n",
    "Enter score: 0.95<br>\n",
    "A<br>\n",
    "\n",
    "Enter score: perfect<br>\n",
    "Bad score<br>\n",
    "Enter score: 10.0<br>\n",
    "Bad score<br>\n",
    "Enter score: 0.75<br>\n",
    "C<br>\n",
    "Enter score: 0.5<br>\n",
    "F<br>\n",
    "\n",
    "Run the program repeatedly as shown above to test the various different values for input.\n",
    "\n"
   ]
  },
  {
   "cell_type": "code",
   "execution_count": 2,
   "metadata": {},
   "outputs": [
    {
     "name": "stdout",
     "output_type": "stream",
     "text": [
      "Enter Hours: 45\n",
      "Enter Rate: 10\n",
      "Pay: 475.0\n"
     ]
    }
   ],
   "source": [
    "# Ex1\n",
    "hour = float(input('Enter Hours: '))\n",
    "rate = float(input('Enter Rate: '))\n",
    "if hour > 40:\n",
    "    print('Pay:',40*rate + (hour-40)*rate*1.5)\n",
    "else:\n",
    "    print('Pay:',hour*rate)"
   ]
  },
  {
   "cell_type": "code",
   "execution_count": 4,
   "metadata": {},
   "outputs": [
    {
     "name": "stdout",
     "output_type": "stream",
     "text": [
      "Enter Hours: 40\n",
      "Enter Rate: nine\n",
      "Error, please enter numeric input\n"
     ]
    }
   ],
   "source": [
    "# Ex2\n",
    "try:\n",
    "    hour = float(input('Enter Hours: '))\n",
    "    rate = float(input('Enter Rate: '))\n",
    "    if hour > 40:\n",
    "        print('Pay:',40*rate + (hour-40)*rate*1.5)\n",
    "    else:\n",
    "        print('Pay:',hour*rate)\n",
    "except:\n",
    "    print('Error, please enter numeric input')"
   ]
  },
  {
   "cell_type": "code",
   "execution_count": 17,
   "metadata": {},
   "outputs": [
    {
     "name": "stdout",
     "output_type": "stream",
     "text": [
      "Enter score: 1\n",
      "A\n"
     ]
    }
   ],
   "source": [
    "# Ex3\n",
    "\n",
    "try:\n",
    "    score = float(input('Enter score: '))\n",
    "    if score > 1 or score < 0:\n",
    "        print('Bad score')\n",
    "    elif score >= 0.9:\n",
    "        print('A')\n",
    "    elif score >= 0.8:\n",
    "        print('B')\n",
    "    elif score >= 0.7:\n",
    "        print('C')\n",
    "    elif score >= 0.6:\n",
    "        print('D')\n",
    "    elif score < 0.6:\n",
    "        print('F')\n",
    "except:\n",
    "    print('Bad score')\n"
   ]
  }
 ],
 "metadata": {
  "kernelspec": {
   "display_name": "Python 3",
   "language": "python",
   "name": "python3"
  },
  "language_info": {
   "codemirror_mode": {
    "name": "ipython",
    "version": 3
   },
   "file_extension": ".py",
   "mimetype": "text/x-python",
   "name": "python",
   "nbconvert_exporter": "python",
   "pygments_lexer": "ipython3",
   "version": "3.7.4"
  }
 },
 "nbformat": 4,
 "nbformat_minor": 2
}
