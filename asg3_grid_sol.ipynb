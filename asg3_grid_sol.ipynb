{
 "cells": [
  {
   "cell_type": "markdown",
   "metadata": {},
   "source": [
    "<h1>Assignment 3</h1>\n",
    "\n",
    "<pre>\n",
    "Write a function that given cell size (e.g. 4) and cell count (e.g. 2)\n",
    "it draws a grid like the following:\n",
    "\n",
    "+----+----+\n",
    "|    |    |\n",
    "|    |    |\n",
    "|    |    |\n",
    "|    |    |\n",
    "+----+----+\n",
    "|    |    |\n",
    "|    |    |\n",
    "|    |    |\n",
    "|    |    |\n",
    "+----+----+\n",
    "\n",
    "Hint: to print more than one value on a line, you can print\n",
    "a comma-separated sequence of values:\n",
    "print('+', '-')\n",
    "\n",
    "By default, print advances to the next line, but you can override\n",
    "that behavior and put a space at the end, like this:\n",
    "     print('+', end=' ')\n",
    "     print('-')\n",
    "</pre>\n",
    "<h2>Solution</h2>"
   ]
  },
  {
   "cell_type": "code",
   "execution_count": 19,
   "metadata": {},
   "outputs": [],
   "source": [
    "# long solution\n",
    "\n",
    "def grid(size, count):\n",
    "    for row in range(count):\n",
    "        for col in range(count):\n",
    "            print('+',end='')\n",
    "            for s in range(size):\n",
    "                print('-',end='')\n",
    "        print('+')\n",
    "        for i in range(size):\n",
    "            for s in range(count):\n",
    "                print('|',end='')\n",
    "                for s in range(size):\n",
    "                    print(' ',end='')\n",
    "            print('|')\n",
    "    for col in range(count):\n",
    "        print('+',end='')\n",
    "        for s in range(size):\n",
    "            print('-',end='')\n",
    "    print('+')\n"
   ]
  },
  {
   "cell_type": "code",
   "execution_count": 20,
   "metadata": {},
   "outputs": [
    {
     "name": "stdout",
     "output_type": "stream",
     "text": [
      "+-+\n",
      "| |\n",
      "+-+\n"
     ]
    }
   ],
   "source": [
    "grid(1,1)"
   ]
  },
  {
   "cell_type": "code",
   "execution_count": 21,
   "metadata": {},
   "outputs": [],
   "source": [
    "# short solution (pythonic)\n",
    "\n",
    "def grid(size, count):\n",
    "    for row in range(count):\n",
    "        print(('+' + '-'*size)*count + '+')\n",
    "        for i in range(size):\n",
    "            print(('|' + ' '*size)*count + '|')\n",
    "    print(('+' + '-'*size)*count + '+')"
   ]
  },
  {
   "cell_type": "code",
   "execution_count": 5,
   "metadata": {},
   "outputs": [
    {
     "name": "stdout",
     "output_type": "stream",
     "text": [
      "+---+---+---+---+---+\n",
      "|   |   |   |   |   |\n",
      "|   |   |   |   |   |\n",
      "|   |   |   |   |   |\n",
      "+---+---+---+---+---+\n",
      "|   |   |   |   |   |\n",
      "|   |   |   |   |   |\n",
      "|   |   |   |   |   |\n",
      "+---+---+---+---+---+\n",
      "|   |   |   |   |   |\n",
      "|   |   |   |   |   |\n",
      "|   |   |   |   |   |\n",
      "+---+---+---+---+---+\n",
      "|   |   |   |   |   |\n",
      "|   |   |   |   |   |\n",
      "|   |   |   |   |   |\n",
      "+---+---+---+---+---+\n",
      "|   |   |   |   |   |\n",
      "|   |   |   |   |   |\n",
      "|   |   |   |   |   |\n",
      "+---+---+---+---+---+\n"
     ]
    }
   ],
   "source": [
    "grid(3,5)"
   ]
  },
  {
   "cell_type": "code",
   "execution_count": 6,
   "metadata": {},
   "outputs": [],
   "source": [
    "# algorithm\n",
    "\n",
    "def grid(size, count):\n",
    "    \n",
    "    # print count number of rows of the grid:\n",
    "    for row in range(count):\n",
    "        \n",
    "        # print the top line of the row\n",
    "        print(('+' + '-'*size)*count + '+')\n",
    "        \n",
    "        # print inside lines of the row, size number of times\n",
    "        for i in range(size):\n",
    "            print(('|' + ' '*size)*count + '|')\n",
    "            \n",
    "    # print the closing line of the grid\n",
    "    print(('+' + '-'*size)*count + '+')"
   ]
  },
  {
   "cell_type": "code",
   "execution_count": 7,
   "metadata": {},
   "outputs": [
    {
     "name": "stdout",
     "output_type": "stream",
     "text": [
      "+--+--+--+\n",
      "|  |  |  |\n",
      "|  |  |  |\n",
      "+--+--+--+\n",
      "|  |  |  |\n",
      "|  |  |  |\n",
      "+--+--+--+\n",
      "|  |  |  |\n",
      "|  |  |  |\n",
      "+--+--+--+\n"
     ]
    }
   ],
   "source": [
    "grid(2,3)"
   ]
  },
  {
   "cell_type": "code",
   "execution_count": 14,
   "metadata": {},
   "outputs": [
    {
     "name": "stdout",
     "output_type": "stream",
     "text": [
      "+--+--+--+\n"
     ]
    }
   ],
   "source": [
    "# print the top line of a row\n",
    "size=2\n",
    "count=3\n",
    "print(('+' + '-'*size)*count + '+')"
   ]
  },
  {
   "cell_type": "code",
   "execution_count": 13,
   "metadata": {},
   "outputs": [
    {
     "name": "stdout",
     "output_type": "stream",
     "text": [
      "|  |  |  |\n"
     ]
    }
   ],
   "source": [
    "# print inside lines of a row\n",
    "size=2\n",
    "count=3\n",
    "print(('|' + ' '*size)*count + '|')"
   ]
  },
  {
   "cell_type": "code",
   "execution_count": 12,
   "metadata": {},
   "outputs": [
    {
     "name": "stdout",
     "output_type": "stream",
     "text": [
      "|  |  |  |\n",
      "|  |  |  |\n"
     ]
    }
   ],
   "source": [
    "# print inside lines of the row, size number of times\n",
    "size=2\n",
    "count=3\n",
    "for i in range(size):\n",
    "    print(('|' + ' '*size)*count + '|')"
   ]
  }
 ],
 "metadata": {
  "kernelspec": {
   "display_name": "Python 3",
   "language": "python",
   "name": "python3"
  },
  "language_info": {
   "codemirror_mode": {
    "name": "ipython",
    "version": 3
   },
   "file_extension": ".py",
   "mimetype": "text/x-python",
   "name": "python",
   "nbconvert_exporter": "python",
   "pygments_lexer": "ipython3",
   "version": "3.7.4"
  }
 },
 "nbformat": 4,
 "nbformat_minor": 2
}
