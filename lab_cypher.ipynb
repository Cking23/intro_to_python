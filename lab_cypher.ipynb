{
 "cells": [
  {
   "cell_type": "markdown",
   "metadata": {},
   "source": [
    "CS 1314 Introduction to Programming and Problem Solving<br>\n",
    "Spring 2020<br>\n",
    "Angelo State University<br>\n",
    "Dr. Erdogan Dogdu\n",
    "\n",
    "<h1>Lab: Ciphertext</h1>\n",
    "\n",
    "You will create a ciphertext in this lab.\n",
    "\n",
    "Read for more information: https://en.wikipedia.org/wiki/Ciphertext"
   ]
  },
  {
   "cell_type": "code",
   "execution_count": 20,
   "metadata": {},
   "outputs": [
    {
     "name": "stdout",
     "output_type": "stream",
     "text": [
      "['A', 'B', 'C', 'D', 'E', 'F', 'G', 'H', 'I', 'J', 'K', 'L', 'M', 'N', 'O', 'P', 'Q', 'R', 'S', 'T', 'U', 'V', 'W', 'X', 'Y', 'a', 'b', 'c', 'd', 'e', 'f', 'g', 'h', 'i', 'j', 'k', 'l', 'm', 'n', 'o', 'p', 'q', 'r', 's', 't', 'u', 'v', 'w', 'x', 'y']\n"
     ]
    }
   ],
   "source": [
    "# create a list of all characters in the alphabet (upper and lower)\n",
    "chars = [chr(c) for c in range(ord('A'),ord('Z'))] + [chr(c) for c in range(ord('a'),ord('z'))]\n",
    "print(chars)"
   ]
  },
  {
   "cell_type": "code",
   "execution_count": 21,
   "metadata": {},
   "outputs": [
    {
     "name": "stdout",
     "output_type": "stream",
     "text": [
      "['k', 'w', 'I', 'f', 'H', 'D', 'l', 'p', 'i', 'j', 'K', 'J', 'c', 'A', 'q', 'R', 'G', 'V', 'O', 'r', 'M', 'X', 'T', 'P', 'Y', 'y', 'U', 'g', 't', 'u', 'm', 'C', 'Q', 'E', 'x', 'o', 'v', 'N', 'n', 'd', 's', 'B', 'h', 'a', 'L', 'e', 'W', 'S', 'F', 'b']\n"
     ]
    }
   ],
   "source": [
    "# make a copy of the alphabet list and shuffle\n",
    "import random\n",
    "cipher = chars.copy()\n",
    "random.shuffle(cipher)\n",
    "print(cipher)"
   ]
  },
  {
   "cell_type": "markdown",
   "metadata": {},
   "source": [
    "Now you have two lists: chars and cipher.\n",
    "\n",
    "Write a function called enctypt, that will take a text, chars and chipher lists, then ecrypt the text using these two lists, by replacing character from chars list with the matching cipher character from the cipher list. For example, for the above lists, 'a' will be replaced with 'h'."
   ]
  },
  {
   "cell_type": "code",
   "execution_count": 22,
   "metadata": {},
   "outputs": [],
   "source": [
    "def encrypt(text,chars,cipher):\n",
    "    # create an empty new text (blank string)\n",
    "    # for each character c in text\n",
    "        # find c in chars\n",
    "            # if found, replace c with cipher character\n",
    "            # if not found, put c in new text\n",
    "    # return new text\n",
    "    return "
   ]
  },
  {
   "cell_type": "code",
   "execution_count": 23,
   "metadata": {},
   "outputs": [],
   "source": [
    "def encrypt(text,chars,cipher):\n",
    "    # create an empty new text\n",
    "    newtext = ''\n",
    "    # for each character c in text\n",
    "    for c in text:\n",
    "        # find c in chars\n",
    "        try:\n",
    "            # if found, replace c with cipher character\n",
    "            i = chars.index(c)\n",
    "            newtext = newtext + cipher[i]\n",
    "        except:\n",
    "            # if not found, put c in new text\n",
    "            newtext = newtext + c\n",
    "    # return new text\n",
    "    return newtext"
   ]
  },
  {
   "cell_type": "code",
   "execution_count": 24,
   "metadata": {},
   "outputs": [],
   "source": [
    "# how do you search a list? (index function on list)\n",
    "mylist = ['cs1336','cs1314','cs1351','cs4330','cs1337']\n",
    "# search cs1314 and print the index\n",
    "# ... your code goes here ...\n",
    "# search cs1337 and print the index\n",
    "# ... your code goes here ..."
   ]
  },
  {
   "cell_type": "code",
   "execution_count": 25,
   "metadata": {},
   "outputs": [],
   "source": [
    "# how do you handle error in case search fails on list?\n",
    "# search cs1315 and see what happens\n",
    "# ... your code goes here ...\n"
   ]
  },
  {
   "cell_type": "code",
   "execution_count": 26,
   "metadata": {},
   "outputs": [],
   "source": [
    "# how do you handle failed search? (try/except) Print 'Not found' if not found.\n",
    "# ... your code goes here ... \n"
   ]
  },
  {
   "cell_type": "code",
   "execution_count": 27,
   "metadata": {},
   "outputs": [],
   "source": [
    "# now you found a character in chars, how do you find the matching character from cipher list?\n",
    "# search 'd' in chars and print the matching cipher character.\n",
    "# ... your code goes here ...\n"
   ]
  },
  {
   "cell_type": "code",
   "execution_count": 35,
   "metadata": {},
   "outputs": [
    {
     "name": "stdout",
     "output_type": "stream",
     "text": [
      "puvvd Tdhvt\n"
     ]
    }
   ],
   "source": [
    "# encrypt 'hello world'\n",
    "print(encrypt('Hello World',chars,cipher))"
   ]
  },
  {
   "cell_type": "code",
   "execution_count": 36,
   "metadata": {},
   "outputs": [
    {
     "name": "stdout",
     "output_type": "stream",
     "text": [
      "seWWt rtQWL\n"
     ]
    }
   ],
   "source": [
    "# encrypt again\n",
    "print(encrypt(encrypt('Hello World',chars,cipher),chars,cipher))"
   ]
  },
  {
   "cell_type": "code",
   "execution_count": 37,
   "metadata": {},
   "outputs": [
    {
     "name": "stdout",
     "output_type": "stream",
     "text": [
      "hello world\n"
     ]
    }
   ],
   "source": [
    "# encrypt back (decrypt)\n",
    "print(encrypt(encrypt('hello world',chars,cipher),cipher,chars))"
   ]
  },
  {
   "cell_type": "code",
   "execution_count": 39,
   "metadata": {},
   "outputs": [
    {
     "name": "stdout",
     "output_type": "stream",
     "text": [
      "Encrypted text: puvvd Tdhvt\n",
      "Decrypted text: Hello World\n"
     ]
    }
   ],
   "source": [
    "# encrypt back (decrypt) in detail\n",
    "\n",
    "# encrypt\n",
    "encrypted = encrypt('Hello World',chars,cipher)\n",
    "print('Encrypted text:', encrypted)\n",
    "\n",
    "# decrypt\n",
    "decrypted = encrypt(encrypted,cipher,chars)\n",
    "print('Decrypted text:', decrypted)"
   ]
  },
  {
   "cell_type": "code",
   "execution_count": null,
   "metadata": {},
   "outputs": [],
   "source": []
  }
 ],
 "metadata": {
  "kernelspec": {
   "display_name": "Python 3",
   "language": "python",
   "name": "python3"
  },
  "language_info": {
   "codemirror_mode": {
    "name": "ipython",
    "version": 3
   },
   "file_extension": ".py",
   "mimetype": "text/x-python",
   "name": "python",
   "nbconvert_exporter": "python",
   "pygments_lexer": "ipython3",
   "version": "3.7.4"
  }
 },
 "nbformat": 4,
 "nbformat_minor": 2
}
