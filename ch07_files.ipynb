{
 "cells": [
  {
   "cell_type": "markdown",
   "metadata": {},
   "source": [
    "<h2> Chapter 7. Files </h2>\n",
    "\n",
    "<i>Author: Erdogan Dogdu</i>\n",
    "\n",
    "Text file: A sequence of lines, each ending with \\n character"
   ]
  },
  {
   "cell_type": "code",
   "execution_count": 1,
   "metadata": {},
   "outputs": [
    {
     "name": "stdout",
     "output_type": "stream",
     "text": [
      "From stephen.marquard@uct.ac.za Sat Jan  5 09:14:16 2008\n",
      "\n",
      "Return-Path: <postmaster@collab.sakaiproject.org>\n",
      "\n",
      "Received: from murder (mail.umich.edu [141.211.14.90])\n",
      "\n",
      "\t by frankenstein.mail.umich.edu (Cyrus v2.3.8) with LMTPA;\n",
      "\n",
      "\t Sat, 05 Jan 2008 09:14:16 -0500\n",
      "\n",
      "X-Sieve: CMU Sieve 2.3\n",
      "\n",
      "Received: from murder ([unix socket])\n",
      "\n",
      "\t by mail.umich.edu (Cyrus v2.2.12) with LMTPA;\n",
      "\n",
      "\t Sat, 05 Jan 2008 09:14:16 -0500\n",
      "\n",
      "Received: from holes.mr.itd.umich.edu (holes.mr.itd.umich.edu [141.211.14.79])\n",
      "\n",
      "\tby flawless.mail.umich.edu () with ESMTP id m05EEFR1013674;\n",
      "\n",
      "\tSat, 5 Jan 2008 09:14:15 -0500\n",
      "\n",
      "Received: FROM paploo.uhi.ac.uk (app1.prod.collab.uhi.ac.uk [194.35.219.184])\n",
      "\n",
      "\tBY holes.mr.itd.umich.edu ID 477F90B0.2DB2F.12494 ; \n",
      "\n",
      "\t 5 Jan 2008 09:14:10 -0500\n",
      "\n",
      "Received: from paploo.uhi.ac.uk (localhost [127.0.0.1])\n",
      "\n",
      "\tby paploo.uhi.ac.uk (Postfix) with ESMTP id 5F919BC2F2;\n",
      "\n",
      "\tSat,  5 Jan 2008 14:10:05 +0000 (GMT)\n",
      "\n",
      "Message-ID: <200801051412.m05ECIaH010327@nakamura.uits.iupui.edu>\n",
      "\n",
      "Mime-Version: 1.0\n",
      "\n",
      "Content-Transfer-Encoding: 7bit\n",
      "\n",
      "Received: from prod.collab.uhi.ac.uk ([194.35.219.182])\n",
      "\n",
      "          by paploo.uhi.ac.uk (JAMES SMTP Server 2.1.3) with SMTP ID 899\n",
      "\n",
      "          for <source@collab.sakaiproject.org>;\n",
      "\n",
      "          Sat, 5 Jan 2008 14:09:50 +0000 (GMT)\n",
      "\n",
      "Received: from nakamura.uits.iupui.edu (nakamura.uits.iupui.edu [134.68.220.122])\n",
      "\n",
      "\tby shmi.uhi.ac.uk (Postfix) with ESMTP id A215243002\n",
      "\n",
      "\tfor <source@collab.sakaiproject.org>; Sat,  5 Jan 2008 14:13:33 +0000 (GMT)\n",
      "\n",
      "Received: from nakamura.uits.iupui.edu (localhost [127.0.0.1])\n",
      "\n",
      "......\n"
     ]
    }
   ],
   "source": [
    "# read and print a file line by line\n",
    "fhand = open('mbox-short.txt')\n",
    "for line in fhand:\n",
    "    print(line)"
   ]
  },
  {
   "cell_type": "code",
   "execution_count": 2,
   "metadata": {},
   "outputs": [
    {
     "name": "stdout",
     "output_type": "stream",
     "text": [
      "From stephen.marquard@uct.ac.za Sat Jan  5 09:14:16 2008\n",
      "Return-Path: <postmaster@collab.sakaiproject.org>\n",
      "Received: from murder (mail.umich.edu [141.211.14.90])\n",
      "by frankenstein.mail.umich.edu (Cyrus v2.3.8) with LMTPA;\n",
      "Sat, 05 Jan 2008 09:14:16 -0500\n",
      "X-Sieve: CMU Sieve 2.3\n",
      "Received: from murder ([unix socket])\n",
      "by mail.umich.edu (Cyrus v2.2.12) with LMTPA;\n",
      "Sat, 05 Jan 2008 09:14:16 -0500\n",
      "Received: from holes.mr.itd.umich.edu (holes.mr.itd.umich.edu [141.211.14.79])\n",
      "by flawless.mail.umich.edu () with ESMTP id m05EEFR1013674;\n",
      "Sat, 5 Jan 2008 09:14:15 -0500\n",
      "Received: FROM paploo.uhi.ac.uk (app1.prod.collab.uhi.ac.uk [194.35.219.184])\n",
      "BY holes.mr.itd.umich.edu ID 477F90B0.2DB2F.12494 ;\n",
      "5 Jan 2008 09:14:10 -0500\n",
      "Received: from paploo.uhi.ac.uk (localhost [127.0.0.1])\n",
      "by paploo.uhi.ac.uk (Postfix) with ESMTP id 5F919BC2F2;\n",
      "Sat,  5 Jan 2008 14:10:05 +0000 (GMT)\n",
      "Message-ID: <200801051412.m05ECIaH010327@nakamura.uits.iupui.edu>\n",
      "Mime-Version: 1.0\n",
      "Content-Transfer-Encoding: 7bit\n",
      "Received: from prod.collab.uhi.ac.uk ([194.35.219.182])\n",
      "by paploo.uhi.ac.uk (JAMES SMTP Server 2.1.3) with SMTP ID 899\n",
      "for <source@collab.sakaiproject.org>;\n",
      "Sat, 5 Jan 2008 14:09:50 +0000 (GMT)\n",
      "Received: from nakamura.uits.iupui.edu (nakamura.uits.iupui.edu [134.68.220.122])\n",
      "by shmi.uhi.ac.uk (Postfix) with ESMTP id A215243002\n",
      "for <source@collab.sakaiproject.org>; Sat,  5 Jan 2008 14:13:33 +0000 (GMT)\n",
      "Received: from nakamura.uits.iupui.edu (localhost [127.0.0.1])\n",
      "......\n"
     ]
    }
   ],
   "source": [
    "# every line in the file has a newline character (\\n) at the end. Strip \\n characters and print.\n",
    "fhand = open('mbox-short.txt')\n",
    "for line in fhand:\n",
    "    print(line.strip())"
   ]
  },
  {
   "cell_type": "code",
   "execution_count": 3,
   "metadata": {},
   "outputs": [
    {
     "name": "stdout",
     "output_type": "stream",
     "text": [
      "From: stephen.marquard@uct.ac.za\n",
      "From: louis@media.berkeley.edu\n",
      "From: zqian@umich.edu\n",
      "From: rjlowe@iupui.edu\n",
      "From: zqian@umich.edu\n",
      "From: rjlowe@iupui.edu\n",
      "From: cwen@iupui.edu\n",
      "From: cwen@iupui.edu\n",
      "From: gsilver@umich.edu\n",
      "From: gsilver@umich.edu\n",
      "From: zqian@umich.edu\n",
      "From: gsilver@umich.edu\n",
      "From: wagnermr@iupui.edu\n",
      "From: zqian@umich.edu\n",
      "From: antranig@caret.cam.ac.uk\n",
      "From: gopal.ramasammycook@gmail.com\n",
      "From: david.horwitz@uct.ac.za\n",
      "From: david.horwitz@uct.ac.za\n",
      "From: david.horwitz@uct.ac.za\n",
      "From: david.horwitz@uct.ac.za\n",
      "From: stephen.marquard@uct.ac.za\n",
      "From: louis@media.berkeley.edu\n",
      "From: louis@media.berkeley.edu\n",
      "From: ray@media.berkeley.edu\n",
      "From: cwen@iupui.edu\n",
      "From: cwen@iupui.edu\n",
      "From: cwen@iupui.edu\n"
     ]
    }
   ],
   "source": [
    "# filter file by finding lines starting with 'From:'\n",
    "fhand = open('mbox-short.txt')\n",
    "for line in fhand:\n",
    "    if line.startswith('From:'):\n",
    "        print(line.strip())"
   ]
  },
  {
   "cell_type": "code",
   "execution_count": 4,
   "metadata": {},
   "outputs": [
    {
     "name": "stdout",
     "output_type": "stream",
     "text": [
      "uct.ac.za\n",
      "media.berkeley.edu\n",
      "umich.edu\n",
      "iupui.edu\n",
      "umich.edu\n",
      "iupui.edu\n",
      "iupui.edu\n",
      "iupui.edu\n",
      "umich.edu\n",
      "umich.edu\n",
      "umich.edu\n",
      "umich.edu\n",
      "iupui.edu\n",
      "umich.edu\n",
      "caret.cam.ac.uk\n",
      "gmail.com\n",
      "uct.ac.za\n",
      "uct.ac.za\n",
      "uct.ac.za\n",
      "uct.ac.za\n",
      "uct.ac.za\n",
      "media.berkeley.edu\n",
      "media.berkeley.edu\n",
      "media.berkeley.edu\n",
      "iupui.edu\n",
      "iupui.edu\n",
      "iupui.edu\n"
     ]
    }
   ],
   "source": [
    "# filter file by finding lines starting with 'From:' and find the domain name of the email addresses\n",
    "fhand = open('mbox-short.txt')\n",
    "for line in fhand:\n",
    "    if line.startswith('From:'):\n",
    "        print(line.strip().split('@')[1])"
   ]
  },
  {
   "cell_type": "code",
   "execution_count": 5,
   "metadata": {},
   "outputs": [
    {
     "name": "stdout",
     "output_type": "stream",
     "text": [
      "za\n",
      "edu\n",
      "edu\n",
      "edu\n",
      "edu\n",
      "edu\n",
      "edu\n",
      "edu\n",
      "edu\n",
      "edu\n",
      "edu\n",
      "edu\n",
      "edu\n",
      "edu\n",
      "uk\n",
      "com\n",
      "za\n",
      "za\n",
      "za\n",
      "za\n",
      "za\n",
      "edu\n",
      "edu\n",
      "edu\n",
      "edu\n",
      "edu\n",
      "edu\n"
     ]
    }
   ],
   "source": [
    "# find the top-level domain names (the last part of DNS like edu, com, etc. after the last dot point)\n",
    "fhand = open('mbox-short.txt')\n",
    "for line in fhand:\n",
    "    if line.startswith('From:'):\n",
    "        print(line.strip().split('@')[1].split('.')[-1])"
   ]
  },
  {
   "cell_type": "code",
   "execution_count": 6,
   "metadata": {},
   "outputs": [
    {
     "name": "stdout",
     "output_type": "stream",
     "text": [
      "1. za\n",
      "2. edu\n",
      "3. edu\n",
      "4. edu\n",
      "5. edu\n",
      "6. edu\n",
      "7. edu\n",
      "8. edu\n",
      "9. edu\n",
      "10. edu\n",
      "11. edu\n",
      "12. edu\n",
      "13. edu\n",
      "14. edu\n",
      "15. uk\n",
      "16. com\n",
      "17. za\n",
      "18. za\n",
      "19. za\n",
      "20. za\n",
      "21. za\n",
      "22. edu\n",
      "23. edu\n",
      "24. edu\n",
      "25. edu\n",
      "26. edu\n",
      "27. edu\n"
     ]
    }
   ],
   "source": [
    "# find the top-level domain names (the last part of DNS like edu, com, etc. after the last dot point)\n",
    "# put an index number from 1 forward for each email's top-level domain name\n",
    "fhand = open('mbox-short.txt')\n",
    "cnt = 0\n",
    "for line in fhand:\n",
    "    if line.startswith('From:'):\n",
    "        cnt += 1\n",
    "        print(str(cnt) + '. ' + line.strip().split('@')[1].split('.')[-1])"
   ]
  },
  {
   "cell_type": "code",
   "execution_count": 7,
   "metadata": {},
   "outputs": [
    {
     "name": "stdout",
     "output_type": "stream",
     "text": [
      "There are 27 emails in the file.\n"
     ]
    }
   ],
   "source": [
    "# How many emails in the file\n",
    "fhand = open('mbox-short.txt')\n",
    "cnt = 0\n",
    "for line in fhand:\n",
    "    if line.startswith('From:'):  # start of email marker\n",
    "        cnt += 1\n",
    "print('There are ' + str(cnt) + ' emails in the file.')"
   ]
  },
  {
   "cell_type": "code",
   "execution_count": 8,
   "metadata": {},
   "outputs": [
    {
     "name": "stdout",
     "output_type": "stream",
     "text": [
      "There are 1909 lines in the file.\n"
     ]
    }
   ],
   "source": [
    "# How many lines of text are in the file\n",
    "fhand = open('mbox-short.txt')\n",
    "cnt = 0\n",
    "for line in fhand:\n",
    "    cnt += 1\n",
    "print('There are ' + str(cnt) + ' lines in the file.')"
   ]
  },
  {
   "cell_type": "code",
   "execution_count": 9,
   "metadata": {},
   "outputs": [
    {
     "name": "stdout",
     "output_type": "stream",
     "text": [
      "File mbox1.txt does not exist.\n"
     ]
    }
   ],
   "source": [
    "# check if a file exists\n",
    "fname = 'mbox1.txt'\n",
    "try:\n",
    "    fhand = open(fname)\n",
    "except:\n",
    "    print('File ' + fname + ' does not exist.')"
   ]
  }
 ],
 "metadata": {
  "kernelspec": {
   "display_name": "Python 3",
   "language": "python",
   "name": "python3"
  },
  "language_info": {
   "codemirror_mode": {
    "name": "ipython",
    "version": 3
   },
   "file_extension": ".py",
   "mimetype": "text/x-python",
   "name": "python",
   "nbconvert_exporter": "python",
   "pygments_lexer": "ipython3",
   "version": "3.7.4"
  }
 },
 "nbformat": 4,
 "nbformat_minor": 2
}
